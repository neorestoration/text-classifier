{
  "nbformat": 4,
  "nbformat_minor": 0,
  "metadata": {
    "colab": {
      "provenance": []
    },
    "kernelspec": {
      "name": "python3",
      "display_name": "Python 3"
    },
    "language_info": {
      "name": "python"
    }
  },
  "cells": [
    {
      "cell_type": "code",
      "execution_count": 2,
      "metadata": {
        "colab": {
          "base_uri": "https://localhost:8080/"
        },
        "id": "epbvQO2_DzOp",
        "outputId": "250f33f0-9e0a-4704-cdbf-c66c4a552e15"
      },
      "outputs": [
        {
          "output_type": "stream",
          "name": "stdout",
          "text": [
            "mkdir: cannot create directory ‘/root/.kaggle’: File exists\n"
          ]
        }
      ],
      "source": [
        "# Setup kaggle, add kaggle.json to colab files.\n",
        "! pip install -q kaggle\n",
        "! mkdir ~/.kaggle\n",
        "! cp kaggle.json ~/.kaggle/\n",
        "! chmod 600 ~/.kaggle/kaggle.json"
      ]
    },
    {
      "cell_type": "code",
      "source": [
        "# Download dataset from kaggle\n",
        "! kaggle datasets download ulrikthygepedersen/rotten-tomatoes-reviews"
      ],
      "metadata": {
        "colab": {
          "base_uri": "https://localhost:8080/"
        },
        "id": "2vS7iMdsEGif",
        "outputId": "32e8b396-cb84-466a-8627-8ebb3edb52dd"
      },
      "execution_count": 3,
      "outputs": [
        {
          "output_type": "stream",
          "name": "stdout",
          "text": [
            "Downloading rotten-tomatoes-reviews.zip to /content\n",
            " 19% 5.00M/26.5M [00:00<00:00, 40.9MB/s]\n",
            "100% 26.5M/26.5M [00:00<00:00, 129MB/s] \n"
          ]
        }
      ]
    },
    {
      "cell_type": "code",
      "source": [
        "#Unzip file\n",
        "! unzip rotten-tomatoes-reviews.zip"
      ],
      "metadata": {
        "colab": {
          "base_uri": "https://localhost:8080/"
        },
        "id": "nod4q2JQEJqp",
        "outputId": "82b8afdb-5e35-4d5d-c4db-f2308975fca0"
      },
      "execution_count": 5,
      "outputs": [
        {
          "output_type": "stream",
          "name": "stdout",
          "text": [
            "Archive:  rotten-tomatoes-reviews.zip\n",
            "  inflating: rt_reviews.csv          \n"
          ]
        }
      ]
    },
    {
      "cell_type": "code",
      "source": [
        "#Create dataset\n",
        "import pandas as pd\n",
        "\n",
        "with open('rt_reviews.csv',  encoding=\"cp1252\") as file:\n",
        "    temp = file.readlines()\n",
        "content = []\n",
        "for sub in temp:\n",
        "  content.append(sub.replace(\"\\'\", \"\").replace(\"\\n\", \"\").replace(\"\\\"\", \"\").replace(\",\", \"\").replace(\":\", \"\"))\n",
        "\n",
        "header = content[:1]\n",
        "rows = content[1:]\n",
        "print(header[:10])\n",
        "print(rows[:10])\n",
        "print(rows[0])\n",
        "\n",
        "content2d = [[word for word in sentence.split()] for sentence in rows]\n",
        "print(content2d[:5])\n",
        "\n",
        "#Divide dataset into train, validate, and test sets\n",
        "df = pd.DataFrame(content2d)\n",
        "\n",
        "\n",
        "trainsize=int(0.6*len(df))\n",
        "validatesize=int(0.8*len(df))\n",
        "trainset=df[:trainsize]\n",
        "validateset=df[trainsize:validatesize]\n",
        "testset=df[validatesize:]\n",
        "\n",
        "print(trainset.size)\n",
        "print(validateset.size)\n",
        "print(testset.size)\n"
      ],
      "metadata": {
        "colab": {
          "base_uri": "https://localhost:8080/"
        },
        "id": "z365dGUDFFYt",
        "outputId": "57493b3f-f179-4494-a8dd-48c659dfe097"
      },
      "execution_count": 66,
      "outputs": [
        {
          "output_type": "stream",
          "name": "stdout",
          "text": [
            "['FreshnessReview']\n",
            "['fresh Manakamana doesnt answer any questions yet makes its point Nepal like the rest of our planet is a picturesque but far from peaceable kingdom.', 'fresh Wilfully offensive and powered by a chest-thumping machismo but its good clean fun.', 'rotten It would be difficult to imagine material more wrong for Spade than Lost & Found.', 'rotten Despite the gusto its star brings to the role its hard to ride shotgun on Hectors voyage of discovery.', 'rotten If there was a good idea at the core of this film its been buried in an unsightly pile of flatulence jokes dog-related bad puns and a ridiculous serial arson plot.', 'rotten Gleeson goes the Hallmark Channel route damaging an intermittently curious entry in the time travel subgenre.', 'fresh It was the height of satire in 1976 dark as hell but patently absurd and surely nowhere close to objective reality. Objective reality surpassed it somewhere in the Jerry Springer era.', 'rotten Everyone in The Comedian deserves a better movie than The Comedian.', 'rotten Actor encourages grumpy Christians to embrace the season.', 'fresh Slight contained but ineffably soulful.']\n",
            "fresh Manakamana doesnt answer any questions yet makes its point Nepal like the rest of our planet is a picturesque but far from peaceable kingdom.\n",
            "[['fresh', 'Manakamana', 'doesnt', 'answer', 'any', 'questions', 'yet', 'makes', 'its', 'point', 'Nepal', 'like', 'the', 'rest', 'of', 'our', 'planet', 'is', 'a', 'picturesque', 'but', 'far', 'from', 'peaceable', 'kingdom.'], ['fresh', 'Wilfully', 'offensive', 'and', 'powered', 'by', 'a', 'chest-thumping', 'machismo', 'but', 'its', 'good', 'clean', 'fun.'], ['rotten', 'It', 'would', 'be', 'difficult', 'to', 'imagine', 'material', 'more', 'wrong', 'for', 'Spade', 'than', 'Lost', '&', 'Found.'], ['rotten', 'Despite', 'the', 'gusto', 'its', 'star', 'brings', 'to', 'the', 'role', 'its', 'hard', 'to', 'ride', 'shotgun', 'on', 'Hectors', 'voyage', 'of', 'discovery.'], ['rotten', 'If', 'there', 'was', 'a', 'good', 'idea', 'at', 'the', 'core', 'of', 'this', 'film', 'its', 'been', 'buried', 'in', 'an', 'unsightly', 'pile', 'of', 'flatulence', 'jokes', 'dog-related', 'bad', 'puns', 'and', 'a', 'ridiculous', 'serial', 'arson', 'plot.']]\n",
            "16128000\n",
            "5376000\n",
            "5376000\n"
          ]
        }
      ]
    },
    {
      "cell_type": "code",
      "source": [
        "print(trainset)\n",
        "print(trainset[2][0])\n",
        "numdoc_train = len(trainset.index)\n",
        "print(trainset.values)\n",
        "\n",
        "#Get probability of occurancce of \"the\"\n",
        "count = 0\n",
        "for x in trainset.index:\n",
        "  for y in range(1,len(trainset.columns)):\n",
        "    if trainset[y][x] is not None:\n",
        "      if trainset[y][x].lower()=='the':\n",
        "        count+= 1\n",
        "        break\n",
        "print(count)\n",
        "\n",
        "P_the = count / numdoc_train\n",
        "print(P_the)\n",
        "\n"
      ],
      "metadata": {
        "colab": {
          "base_uri": "https://localhost:8080/"
        },
        "id": "w6fWIZCJVyXu",
        "outputId": "af4cf002-f8e8-4fd2-b633-19fdf79866e4"
      },
      "execution_count": 83,
      "outputs": [
        {
          "output_type": "stream",
          "name": "stdout",
          "text": [
            "            0           1          2           3              4          5   \\\n",
            "0        fresh  Manakamana     doesnt      answer            any  questions   \n",
            "1        fresh    Wilfully  offensive         and        powered         by   \n",
            "2       rotten          It      would          be      difficult         to   \n",
            "3       rotten     Despite        the       gusto            its       star   \n",
            "4       rotten          If      there         was              a       good   \n",
            "...        ...         ...        ...         ...            ...        ...   \n",
            "287995   fresh    [T]heres       some  remarkable  psychological    insight   \n",
            "287996   fresh         Its          a      sports           film  nonsports   \n",
            "287997   fresh           A      solid  well-acted          tale.       None   \n",
            "287998   fresh         Not          a        film            for     cynics   \n",
            "287999   fresh      Simply        put          if            you       like   \n",
            "\n",
            "             6               7         8       9   ...    46    47    48  \\\n",
            "0           yet           makes       its   point  ...  None  None  None   \n",
            "1             a  chest-thumping  machismo     but  ...  None  None  None   \n",
            "2       imagine        material      more   wrong  ...  None  None  None   \n",
            "3        brings              to       the    role  ...  None  None  None   \n",
            "4          idea              at       the    core  ...  None  None  None   \n",
            "...         ...             ...       ...     ...  ...   ...   ...   ...   \n",
            "287995       in            this     scary  little  ...  None  None  None   \n",
            "287996     fans             can     love;     its  ...  None  None  None   \n",
            "287997     None            None      None    None  ...  None  None  None   \n",
            "287998      but               a  creation      of  ...  None  None  None   \n",
            "287999    films           about    boxing    with  ...  None  None  None   \n",
            "\n",
            "          49    50    51    52    53    54    55  \n",
            "0       None  None  None  None  None  None  None  \n",
            "1       None  None  None  None  None  None  None  \n",
            "2       None  None  None  None  None  None  None  \n",
            "3       None  None  None  None  None  None  None  \n",
            "4       None  None  None  None  None  None  None  \n",
            "...      ...   ...   ...   ...   ...   ...   ...  \n",
            "287995  None  None  None  None  None  None  None  \n",
            "287996  None  None  None  None  None  None  None  \n",
            "287997  None  None  None  None  None  None  None  \n",
            "287998  None  None  None  None  None  None  None  \n",
            "287999  None  None  None  None  None  None  None  \n",
            "\n",
            "[288000 rows x 56 columns]\n",
            "doesnt\n",
            "[['fresh' 'Manakamana' 'doesnt' ... None None None]\n",
            " ['fresh' 'Wilfully' 'offensive' ... None None None]\n",
            " ['rotten' 'It' 'would' ... None None None]\n",
            " ...\n",
            " ['fresh' 'A' 'solid' ... None None None]\n",
            " ['fresh' 'Not' 'a' ... None None None]\n",
            " ['fresh' 'Simply' 'put' ... None None None]]\n",
            "183705\n",
            "0.6378645833333333\n"
          ]
        }
      ]
    },
    {
      "cell_type": "code",
      "source": [
        "#Get probability of occurancce of \"the\" given positive\n",
        "count = 0\n",
        "numdoc_train_fresh = 0\n",
        "for x in trainset.index:\n",
        "  if trainset[0][x]=='fresh':\n",
        "    numdoc_train_fresh+=1\n",
        "    for y in range(1, len(trainset.columns)):\n",
        "      if trainset[y][x] is not None:\n",
        "        if trainset[y][x].lower()=='the':\n",
        "          count+= 1\n",
        "          break\n",
        "          \n",
        "print(count)\n",
        "\n",
        "\n",
        "P_the_pos = count / numdoc_train_fresh\n",
        "print(P_the_pos)\n"
      ],
      "metadata": {
        "colab": {
          "base_uri": "https://localhost:8080/"
        },
        "id": "n41PxF1psNw5",
        "outputId": "ec43519b-49ea-4805-cd86-1fa5153b96c3"
      },
      "execution_count": 90,
      "outputs": [
        {
          "output_type": "stream",
          "name": "stdout",
          "text": [
            "92114\n",
            "0.6389218358754535\n"
          ]
        }
      ]
    }
  ]
}